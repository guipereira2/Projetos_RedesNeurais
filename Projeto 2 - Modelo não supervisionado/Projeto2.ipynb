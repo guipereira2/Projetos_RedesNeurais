{
 "cells": [
  {
   "cell_type": "markdown",
   "metadata": {},
   "source": [
    "# **Projeto 2 introdução a redes neurais - Modelo não supervisionado**"
   ]
  },
  {
   "cell_type": "markdown",
   "metadata": {},
   "source": [
    "--------------------"
   ]
  },
  {
   "cell_type": "markdown",
   "metadata": {},
   "source": [
    "## Objetivo: "
   ]
  },
  {
   "cell_type": "markdown",
   "metadata": {},
   "source": [
    "Implementar uma rede neural não supervisionada (e.g., SOM ou GNG) em pelo menos dois datasets, avaliar os padrões detectados em cada conjunto como custers e outliers. Avaliar a qualidade dos agrupamentos variando parâmetros como número de neurônios, taxas de aprendizado e grid."
   ]
  },
  {
   "cell_type": "markdown",
   "metadata": {},
   "source": [
    "## Importando bibliotecas necessárias"
   ]
  },
  {
   "cell_type": "code",
   "execution_count": 1,
   "metadata": {},
   "outputs": [],
   "source": [
    "import numpy as np\n",
    "import seaborn as sns\n",
    "import cv2\n",
    "import os \n",
    "import matplotlib.pyplot as plt\n",
    "from collections import Counter\n",
    "\n",
    "# Configuração do Searborn\n",
    "sns.set(\n",
    "    style='darkgrid',\n",
    "    context='notebook',\n",
    "    rc={\n",
    "        'axes.spines.top': False,\n",
    "        'axes.spines.right': False\n",
    "    }\n",
    ")"
   ]
  },
  {
   "cell_type": "markdown",
   "metadata": {},
   "source": [
    "## Primeiro Dataset"
   ]
  },
  {
   "cell_type": "markdown",
   "metadata": {},
   "source": [
    "O primeiro dataset é o Chest X-ray images (Pneumonia), é um dataset do *kaggle* (`https://www.kaggle.com/datasets/paultimothymooney/chest-xray-pneumonia`) que contém 5856 imagens de raios-X de tórax, dividas em duas classes: pneumonia (bacteriana e viral) e sem pneumonia (normal). As imagens foram rotuladas manualmente.  "
   ]
  },
  {
   "cell_type": "markdown",
   "metadata": {},
   "source": [
    "## Preparação dos dados"
   ]
  },
  {
   "cell_type": "markdown",
   "metadata": {},
   "source": [
    "### As seguintes etapas serão realizadas: \n",
    " - Leitura das imagens: As imagens são divididas em pastas com as classes \"PNEUMONIA\" e \"NORMAL\".\n",
    " - Redimensionamento: Cada imagem é redimensionada para um tamanho fixo.\n",
    " - Transformação: As imagens são achatadas em vetores para o processamento da rede.\n",
    " - Codificação de rótulos: As classes são convertidas para valores binários.\n",
    " - Normalização dos dados: O conjunto de dados é escalado para garantir que todas as variáveis estejam na mesma escala."
   ]
  },
  {
   "cell_type": "code",
   "execution_count": 2,
   "metadata": {},
   "outputs": [],
   "source": [
    "# Caminhos para os dados de treino / teste \n",
    "\n",
    "diretorio_treino = \"./train\"\n",
    "diretorio_teste = \"./test\""
   ]
  },
  {
   "cell_type": "markdown",
   "metadata": {},
   "source": [
    "A biblioteca `os` será utilizada para navegar pelas pastas e acessar os arquivos. A função `os.listdir()` lista os arquivos dentro de um diretório especificado, enquanto `os.path.join()` é usada para construir caminhos de arquivos de maneira compatível com diferentes sistemas operacionais, garantindo a integridade do código em diferentes plataformas, já para a preparação das imagens a biblioteca OpenCV (cv2) será usada para carregar e pré-processar as imagens. A função `cv2.imread()` lê a imagem e a converte para escala cinza, enquanto `cv2.resize()` redimensiona todas as imagens para um tamanho uniforme. Em seguida, a imagem é achatada com o `img.flatten()` para transforma-lá em um vetor"
   ]
  },
  {
   "cell_type": "code",
   "execution_count": 3,
   "metadata": {},
   "outputs": [
    {
     "name": "stdout",
     "output_type": "stream",
     "text": [
      "Distribuição de rótulos: (array([0, 1]), array([234, 390]))\n"
     ]
    }
   ],
   "source": [
    "# Função para carregar e processar as imagens do dataset\n",
    "\n",
    "def carregar_imagens(diretorio, tamanho=(64, 64)): \n",
    "    \"\"\" \n",
    "    Função para carregar e preprocessar as imagens do diretório. \n",
    "    \n",
    "    Parâmetros: \n",
    "    - diretorio: Caminho para o diretório contendo as imagens.\n",
    "    - tamanho: Tamanho para o qual as imagens serão redimensionadas (64x64).\n",
    "    \n",
    "    Retorna: \n",
    "    - imagens: Array numpy com as imagens transformadas em vetores.\n",
    "    - rotulos_imagens: Array numpy com os rótulos (0 para \"NORMAL\" e 1 para \"PNEUMONIA\").\n",
    "    \"\"\"\n",
    "\n",
    "    # Listas para armazenar as imagens e seus respectivos rótulos\n",
    "    imagens = []\n",
    "    rotulos_imagens = []\n",
    "\n",
    "    # Loop para percorrer as pastas de imagens (\"PNEUMONIA\" e \"NORMAL\") dentro do diretório\n",
    "\n",
    "    for rotulo in os.listdir(diretorio): \n",
    "        pasta_rotulo = os.path.join(diretorio, rotulo)  # Caminho completo da pasta de rótulo\n",
    "        # Loop para percorrer os arquivos dentro da pasta de rótulo\n",
    "        for arquivo in os.listdir(pasta_rotulo): \n",
    "            caminho = os.path.join(pasta_rotulo, arquivo)  # Caminho completo da imagem\n",
    "            # Ler a imagem em escala cinza\n",
    "            imagem = cv2.imread(caminho, cv2.IMREAD_GRAYSCALE)\n",
    "            # Redimensionar a imagem\n",
    "            imagem = cv2.resize(imagem, tamanho)\n",
    "            # Achatar a imagem para um vetor\n",
    "            imagens.append(imagem.flatten())\n",
    "            # Codificação dos rótulos, 0 : NORMAL, 1 : PNEUMONIA\n",
    "            rotulos_imagens.append(0 if rotulo == \"NORMAL\" else 1)\n",
    "\n",
    "\n",
    "    # Retorna as imagens e os rótulos como arrays numpy\n",
    "    return np.array(imagens), np.array(rotulos_imagens) \n",
    "\n",
    "# Carregar as imagens de treino e teste usando a função 'carregar_imagens'\n",
    "dados_treino, rotulos_treino = carregar_imagens(diretorio_treino)\n",
    "dados_teste, rotulos_teste = carregar_imagens(diretorio_teste)\n",
    "\n",
    "# Teste de verificação dos dados\n",
    "print(f\"Distribuição de rótulos: {np.unique(rotulos_teste, return_counts=True)}\")"
   ]
  },
  {
   "cell_type": "markdown",
   "metadata": {},
   "source": [
    "## Aprendizado não supervisionado"
   ]
  },
  {
   "cell_type": "markdown",
   "metadata": {},
   "source": [
    "A rede SOM utiliza aprendizado não supervisionado, que identifica padrões nos dados sem precisar de rótulos ou supervisão. Ela aproveita a redundância presente nos dados para organizar informações em um espaço mais simples. No entanto, se os dados forem completamente aleatórios, como ruídos, fica difícil extrair algo útil, já que não há padrões para serem aprendidos."
   ]
  },
  {
   "cell_type": "markdown",
   "metadata": {},
   "source": [
    "## Aprendizado competitivo"
   ]
  },
  {
   "cell_type": "markdown",
   "metadata": {},
   "source": [
    "O aprendizado competitivo, usado na rede SOM, faz os neurônios competirem para se ativar com base no padrão de entrada. Apenas o neurônio vencedor e seus vizinhos têm seus pesos ajustados, organizando os dados e identificando padrões."
   ]
  },
  {
   "cell_type": "markdown",
   "metadata": {},
   "source": [
    "## Self-Organizing Maps (SOM)"
   ]
  },
  {
   "cell_type": "markdown",
   "metadata": {},
   "source": [
    "A rede SOM é um modelo neural inspirado na organização topológica do córtex cerebral, como os córtices visual, auditivo e motor. Utilizando aprendizado competitivo, ela organiza os neurônios em um grid (geralmente 2D), onde unidades próximas no mapa respondem a estímulos semelhantes. Durante o treinamento, o processo envolve três etapas principais: competição (os neurônios competem para ativar), cooperação (os vizinhos do neurônio vencedor se organizam) e adaptação sináptica (ajuste dos pesos para refletir os padrões de entrada). "
   ]
  },
  {
   "cell_type": "markdown",
   "metadata": {},
   "source": [
    "### Fase da competição"
   ]
  },
  {
   "cell_type": "markdown",
   "metadata": {},
   "source": [
    "A fase de competição na rede SOM ocorre quando, para cada padrão de entrada, os neurônios da rede calculam seus respectivos valores com base em uma função discriminante. Essa função determina qual neurônio é mais \"próximo\" do padrão de entrada. O neurônio que apresentar o melhor resultado é o BMU (Best Matching Unit), ou a unidade de melhor correspondência, e é declarado o vencedor da competição. O BMU é o neurônio que mais se adapta ao padrão de entrada."
   ]
  },
  {
   "cell_type": "markdown",
   "metadata": {},
   "source": [
    "O processo competitivo é dado por: \n",
    "\n",
    "- vetor de entrada : $x = [x_1, x_2, \\dots, x_m]$\n",
    "- Rede (pesos dos neurônios): $W_j = [w_{j1}, w_{j2}, \\dots, w_{jm}]$\n",
    "- Neurônio vencedor (para todo j): $i(x) = \\arg \\min || x - w_j ||$\n",
    "\n",
    "\n",
    "\n",
    "\n",
    "\n"
   ]
  },
  {
   "cell_type": "markdown",
   "metadata": {},
   "source": [
    "### Fase da cooperação "
   ]
  },
  {
   "cell_type": "markdown",
   "metadata": {},
   "source": [
    "A fase de cooperação na rede SOM ocorre quando o neurônio vencedor (BMU) determina a localização de uma vizinhança topológica de neurônios próximos. Esses neurônios vizinhos se beneficiam da ativação do neurônio vencedor. O neurônio vencedor $i(x)$ está no centro dessa região (vizinhança), e a vizinhança é definida pela proximidade no grid, não pelo conjunto de pesos. A função de vizinhança é dada por $h_{j,i}(x) = \\exp \\left( -\\frac{d_{j,i}^2}{2 \\sigma^2} \\right)$, onde $d{j,i}$ é a distância entre os neurônios j e i. O decaimento da vizinhança é descrito por: $\\sigma(t) = \\sigma_0 \\exp \\left( -\\frac{t}{\\tau_{\\text{}}} \\right)$, com $\\sigma(0)$ como o valor inicial e $\\tau$ como o tempo de aprendizagem"
   ]
  },
  {
   "cell_type": "markdown",
   "metadata": {},
   "source": [
    "### Fase de ajuste (adaptação)"
   ]
  },
  {
   "cell_type": "markdown",
   "metadata": {},
   "source": [
    "É o processo em que os neurônios ajustam seus pesos para se adaptar ao padrão de entrada. O ajuste é dado pela fórmula:\n",
    "\n",
    "$$W_j(t + 1) = W_j(t) + \\eta(t) \\cdot h_{j,i}(x)(t) \\cdot (x - W_j)$$"
   ]
  },
  {
   "cell_type": "markdown",
   "metadata": {},
   "source": [
    "Onde:\n",
    "\n",
    "- $\\eta(t)$ é o parâmetro de taxa de aprendizado.\n",
    "- $h_{j,i}(x)(t)$ é a função de vizinhança em torno do neurônio vencedor."
   ]
  },
  {
   "cell_type": "markdown",
   "metadata": {},
   "source": [
    "O decaimento da taxa de aprendizado segue a fórmula:\n",
    "\n",
    "$$\\mu(t) = \\mu_0 \\exp\\left(-\\frac{t}{\\tau_{\\mu}}\\right)$$"
   ]
  },
  {
   "cell_type": "markdown",
   "metadata": {},
   "source": [
    "Onde:\n",
    "\n",
    "- $\\mu_0$ é a taxa de aprendizado inicial.\n",
    "- $\\tau_\\mu$ é o tempo de decaimento."
   ]
  },
  {
   "cell_type": "markdown",
   "metadata": {},
   "source": [
    "### Aprendizado"
   ]
  },
  {
   "cell_type": "markdown",
   "metadata": {},
   "source": [
    "Após diversas iterações e apresentações dos dados de treinamento, os pesos sinápticos ajustam-se para refletir a distribuição do vetor de entrada. Esse ajuste ocorre devido à atualização baseada na vizinhança topológica. Como resultado, o algoritmo promove uma ordenação topológica no mapa, onde neurônios adjacentes no grid possuem vetores de pesos similares.\n",
    "\n",
    "A definição da função de vizinhança ($\\sigma$) é um componente essencial para garantir a formação dessa ordenação no mapa auto-organizável."
   ]
  },
  {
   "cell_type": "markdown",
   "metadata": {},
   "source": [
    "### Considerações"
   ]
  },
  {
   "cell_type": "markdown",
   "metadata": {},
   "source": [
    "O treinamento nas redes SOM é realizado em duas fases principais:\n",
    "\n",
    "- Fase de Organização/Ordenação Topológica:\n",
    "    - Nessa etapa inicial, o mapa é organizado de forma que os neurônios se ajustem para representar a topologia dos dados de entrada.\n",
    "\n",
    "- Fase de Ajuste Fino (Convergência/Especialização):\n",
    "    - Nesta fase, os pesos sinápticos são ajustados de maneira mais precisa para especializar os neurônios em padrões específicos.\n",
    "\n",
    "Além disso, o treinamento envolve ajustes dinâmicos de:\n",
    "\n",
    "- Taxa de Aprendizagem ($\\eta$): Decai gradualmente para controlar a velocidade de adaptação.\n",
    "- Função (Raio) de Vizinhança ($\\sigma$): Reduz com o tempo para refinar a influência entre os neurônios."
   ]
  },
  {
   "cell_type": "markdown",
   "metadata": {},
   "source": [
    "## Implementação"
   ]
  },
  {
   "cell_type": "markdown",
   "metadata": {},
   "source": [
    "A blblioteca usada para implementar a rede SOM (Self-Organizing Map) neste projetos será a MiniSom(`https://github.com/JustGlowing/minisom`), uma implementação simples do algoritmo SOM em Python"
   ]
  },
  {
   "cell_type": "code",
   "execution_count": 4,
   "metadata": {},
   "outputs": [],
   "source": [
    "from minisom import MiniSom # Importando a classe MiniSom\n",
    "from sklearn.metrics import accuracy_score  # Importando accuracy_score, utilizado para calcular a acurácia entre os rótulos previstos e os rótulos reais."
   ]
  },
  {
   "cell_type": "markdown",
   "metadata": {},
   "source": [
    "### Primeiro modelo"
   ]
  },
  {
   "cell_type": "markdown",
   "metadata": {},
   "source": [
    "O primeiro modelo da rede SOM foi configurado com um grid de 4x4 (totalizando 16 neurônios), uma taxa de aprendizado de 0,005 e um valor de sigma (raio de vizinhança que ajusta a área ao redor do neurônio vencedor) de 0.5. O modelo foi treinado por apenas 10 épocas. "
   ]
  },
  {
   "cell_type": "code",
   "execution_count": 5,
   "metadata": {},
   "outputs": [],
   "source": [
    "# input_len é o número de características de entrada (número de pixels da imagem após o pré-processamento)\n",
    "primeiro_modelo_som = MiniSom(x=4, y=4, input_len=dados_teste.shape[1], sigma=0.5, learning_rate=0.005)"
   ]
  },
  {
   "cell_type": "code",
   "execution_count": 6,
   "metadata": {},
   "outputs": [],
   "source": [
    "# Inicializando os pesos da rede SOM com valores aleatórios baseados nos dados de treino\n",
    "primeiro_modelo_som.random_weights_init(dados_teste)\n",
    "\n",
    "# Treinando o modelo utilizando o método de treino aleatório, passando os dados de treino \n",
    "primeiro_modelo_som.train_batch(dados_treino, num_iteration=10)"
   ]
  },
  {
   "cell_type": "code",
   "execution_count": 7,
   "metadata": {},
   "outputs": [
    {
     "name": "stdout",
     "output_type": "stream",
     "text": [
      "Acurácia: 0.74\n"
     ]
    },
    {
     "data": {
      "image/png": "[encoded data removed]",
      "text/plain": [
       "<Figure size 1500x500 with 3 Axes>"
      ]
     },
     "metadata": {},
     "output_type": "display_data"
    }
   ],
   "source": [
    "# Obter os neurônios vencedores como tuplas\n",
    "previsao = [tuple(primeiro_modelo_som.winner(i)) for i in dados_treino]\n",
    "# Dicionário para associar clusters (neurônios) aos rótulos dominantes\n",
    "clusters = {}\n",
    "\n",
    "# Itera sobre cada cluster (neurônio vencedor único) identificado\n",
    "for cluster in set(previsao): \n",
    "    # Encontra os índices de todos os dados associados ao neurônio vencedor atual\n",
    "    indices = [i for i, vencedor in enumerate(previsao) if vencedor == cluster]\n",
    "    # Conta a frequência dos rótulos verdadeiros dos dados pertencentes a este cluster\n",
    "    contagem_rotulos_cluster = Counter(rotulos_treino[indices])\n",
    "    # Identifica o rótulo mais frequente no cluster atual\n",
    "    rotulo_vencedor = contagem_rotulos_cluster.most_common(1)[0][0]\n",
    "    # Associa o neurônio (cluster) ao rótulo dominante\n",
    "    clusters[cluster] = rotulo_vencedor\n",
    "\n",
    "# Fazer previsões com base nos clusters\n",
    "previsoes = [tuple(primeiro_modelo_som.winner(i)) for i in dados_teste]\n",
    "array_de_previsoes = np.array([clusters[vencedor] for vencedor in previsoes])\n",
    "\n",
    "# Calcular a acurácia \n",
    "acuracia = accuracy_score(rotulos_teste, array_de_previsoes)\n",
    "print(f\"Acurácia: {acuracia:.2f}\")\n",
    "\n",
    "# Previsões e rotulos_teste como arrays unidimensionais para plotar\n",
    "previsoes = np.array(previsoes).flatten()\n",
    "rotulos_teste = np.array(rotulos_teste).flatten()\n",
    "\n",
    "# Listas para exemplos corretos e incorretos\n",
    "corretos = []\n",
    "incorretos = []\n",
    "\n",
    "# Comparar previsões com rótulos e armazenar índices\n",
    "for i in range(len(rotulos_teste)):\n",
    "    if i < len(previsoes):  \n",
    "        if previsoes[i] == rotulos_teste[i]:\n",
    "            corretos.append(i)\n",
    "        else:\n",
    "            incorretos.append(i)\n",
    "\n",
    "# Selecionar 2 exemplos corretos e 1 incorreto\n",
    "exemplos_selecionados = corretos[:2] + incorretos[:1]\n",
    "\n",
    "# Plotar os exemplos \n",
    "_, plot = plt.subplots(1, len(exemplos_selecionados), figsize=(15, 5))\n",
    "\n",
    "for i, j in zip(exemplos_selecionados, plot):\n",
    "    j.imshow(dados_teste[i].reshape(64, 64), cmap=\"gray\")\n",
    "    j.set_title(\n",
    "        f\"Rótulo: {'NORMAL' if rotulos_teste[i] == 0 else 'PNEUMONIA'}\\n\"\n",
    "        f\"Previsão: {'NORMAL' if previsoes[i] == 0 else 'PNEUMONIA'}\",\n",
    "        fontsize=10\n",
    "    )\n",
    "    j.axis(\"off\")\n",
    "\n",
    "plt.tight_layout()"
   ]
  },
  {
   "cell_type": "markdown",
   "metadata": {},
   "source": [
    "O primeiro modelo SOM apresentou uma acurácia média devido à configuração inicial limitada: apenas 16 neurônios em um grid 4x4, uma taxa de aprendizado baixa (0,005), que resultou em aprendizado lento, e um sigma reduzido (0,5), que restringiu a adaptação da vizinhança. Além disso, o treinamento em apenas 10 épocas foi insuficiente para uma boa convergência."
   ]
  },
  {
   "cell_type": "markdown",
   "metadata": {},
   "source": [
    "### U-Matrix"
   ]
  },
  {
   "cell_type": "markdown",
   "metadata": {},
   "source": [
    "A U-Matrix calcula a similaridade entre o neurônio $(i)$ e seus vizinhos, sendo útil para encontrar fronteiras entre agrupamentos. No primeiro modelo SOM com 16 neurônios e treinamento limitado, a U-Matrix mostra distâncias altas, indicando que o modelo não formou clusters bem definidos devido à taxa de aprendizado baixa e poucas épocas. Sua fórmula é:"
   ]
  },
  {
   "cell_type": "markdown",
   "metadata": {},
   "source": [
    "$$U(i) = \\sum_{j \\in \\Delta i} \\| w_i - w_j \\|$$\n"
   ]
  },
  {
   "cell_type": "code",
   "execution_count": 8,
   "metadata": {},
   "outputs": [
    {
     "data": {
      "image/png": "[encoded data removed]",
      "text/plain": [
       "<Figure size 800x600 with 2 Axes>"
      ]
     },
     "metadata": {},
     "output_type": "display_data"
    }
   ],
   "source": [
    "# U-Matrix \n",
    "umatrix = primeiro_modelo_som.distance_map()  # Retorna a U-Matrix\n",
    "\n",
    "# Plota a U-Matrix\n",
    "plt.figure(figsize=(8, 6))\n",
    "plt.title(\"U-Matrix\")\n",
    "plt.imshow(umatrix, cmap='bone', interpolation='nearest')\n",
    "plt.colorbar(label='Distância Média')\n",
    "plt.show()"
   ]
  },
  {
   "cell_type": "markdown",
   "metadata": {},
   "source": [
    "### Segundo modelo"
   ]
  }
 ],
 "metadata": {
  "kernelspec": {
   "display_name": "base",
   "language": "python",
   "name": "python3"
  },
  "language_info": {
   "codemirror_mode": {
    "name": "ipython",
    "version": 3
   },
   "file_extension": ".py",
   "mimetype": "text/x-python",
   "name": "python",
   "nbconvert_exporter": "python",
   "pygments_lexer": "ipython3",
   "version": "3.11.10"
  }
 },
 "nbformat": 4,
 "nbformat_minor": 2
}
