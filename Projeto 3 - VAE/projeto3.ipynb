{
 "cells": [
  {
   "cell_type": "code",
   "execution_count": 5,
   "metadata": {},
   "outputs": [],
   "source": [
    "# Ainda não finalizei/rodei o projeto, apenas estruturei a partir de um código que tinha aqui. \n",
    "# To revisando VAE ainda."
   ]
  },
  {
   "cell_type": "code",
   "execution_count": 4,
   "metadata": {},
   "outputs": [],
   "source": [
    "# Importar as bibliotecas necessárias\n",
    "from sklearn.datasets import load_wine\n",
    "from sklearn.model_selection import train_test_split\n",
    "from sklearn.preprocessing import MinMaxScaler\n",
    "import numpy as np\n",
    "import tensorflow as tf\n",
    "from tensorflow.keras import layers\n",
    "import matplotlib.pyplot as plt\n",
    "from sklearn.decomposition import PCA\n",
    "\n",
    "# Carregar o dataset Wine\n",
    "data = load_wine()\n",
    "x = data['data']  # Características\n",
    "y = data['target']  # Rótulos\n",
    "feature_names = data['feature_names']\n",
    "\n",
    "# Dividir os dados em treino e validação\n",
    "x_train, x_val, y_train, y_val = train_test_split(x, y, test_size=0.2, random_state=42)\n",
    "\n",
    "# Normalizar os dados (entre 0 e 1)\n",
    "scaler = MinMaxScaler()\n",
    "x_train = scaler.fit_transform(x_train)\n",
    "x_val = scaler.transform(x_val)"
   ]
  },
  {
   "cell_type": "code",
   "execution_count": null,
   "metadata": {},
   "outputs": [],
   "source": [
    "# Dimensão do espaço latente\n",
    "latent_dim = 2\n",
    "\n",
    "# Encoder\n",
    "encoder_inputs = tf.keras.Input(shape=(x_train.shape[1],))\n",
    "x = layers.Dense(16, activation=\"relu\")(encoder_inputs)\n",
    "x = layers.Dense(8, activation=\"relu\")(x)\n",
    "z_mean = layers.Dense(latent_dim, name=\"z_mean\")(x)\n",
    "z_log_var = layers.Dense(latent_dim, name=\"z_log_var\")(x)\n",
    "\n",
    "# Reparametrização (Sampling)\n",
    "def sampling(args):\n",
    "    z_mean, z_log_var = args\n",
    "    epsilon = tf.keras.backend.random_normal(shape=(tf.shape(z_mean)[0], latent_dim))\n",
    "    return z_mean + tf.exp(0.5 * z_log_var) * epsilon\n",
    "\n",
    "z = layers.Lambda(sampling, output_shape=(latent_dim,), name=\"z\")([z_mean, z_log_var])\n",
    "encoder = tf.keras.Model(encoder_inputs, [z_mean, z_log_var, z], name=\"encoder\")\n",
    "encoder.summary()"
   ]
  },
  {
   "cell_type": "code",
   "execution_count": null,
   "metadata": {},
   "outputs": [],
   "source": [
    "# Decoder\n",
    "latent_inputs = tf.keras.Input(shape=(latent_dim,))\n",
    "x = layers.Dense(8, activation=\"relu\")(latent_inputs)\n",
    "x = layers.Dense(16, activation=\"relu\")(x)\n",
    "decoder_outputs = layers.Dense(x_train.shape[1], activation=\"sigmoid\")(x)\n",
    "decoder = tf.keras.Model(latent_inputs, decoder_outputs, name=\"decoder\")\n",
    "decoder.summary()"
   ]
  },
  {
   "cell_type": "code",
   "execution_count": null,
   "metadata": {},
   "outputs": [],
   "source": [
    "# Definir o modelo VAE\n",
    "class VAE(tf.keras.Model):\n",
    "    def __init__(self, encoder, decoder, **kwargs):\n",
    "        super(VAE, self).__init__(**kwargs)\n",
    "        self.encoder = encoder\n",
    "        self.decoder = decoder\n",
    "\n",
    "    def train_step(self, data):\n",
    "        if isinstance(data, tuple):\n",
    "            data = data[0]\n",
    "        with tf.GradientTape() as tape:\n",
    "            # Passar pelos modelos\n",
    "            z_mean, z_log_var, z = self.encoder(data)\n",
    "            reconstruction = self.decoder(z)\n",
    "            # Reconstruction Loss\n",
    "            reconstruction_loss = tf.reduce_mean(tf.reduce_sum(tf.square(data - reconstruction), axis=1))\n",
    "            # KL Divergence\n",
    "            kl_loss = -0.5 * tf.reduce_sum(1 + z_log_var - tf.square(z_mean) - tf.exp(z_log_var), axis=1)\n",
    "            kl_loss = tf.reduce_mean(kl_loss)\n",
    "            total_loss = reconstruction_loss + kl_loss\n",
    "        # Backpropagation\n",
    "        grads = tape.gradient(total_loss, self.trainable_weights)\n",
    "        self.optimizer.apply_gradients(zip(grads, self.trainable_weights))\n",
    "        return {\"loss\": total_loss, \"reconstruction_loss\": reconstruction_loss, \"kl_loss\": kl_loss}\n",
    "\n",
    "vae = VAE(encoder, decoder)\n",
    "vae.compile(optimizer=tf.keras.optimizers.Adam())"
   ]
  },
  {
   "cell_type": "code",
   "execution_count": null,
   "metadata": {},
   "outputs": [],
   "source": [
    "# Treinamento\n",
    "history = vae.fit(x_train, x_train, epochs=50, batch_size=16, validation_data=(x_val, x_val))"
   ]
  },
  {
   "cell_type": "code",
   "execution_count": null,
   "metadata": {},
   "outputs": [],
   "source": [
    "# Projeção do espaço latente\n",
    "z_mean, _, _ = encoder.predict(x_val)\n",
    "\n",
    "# Reduzir para 2D (se necessário)\n",
    "pca = PCA(n_components=2)\n",
    "z_pca = pca.fit_transform(z_mean)\n",
    "\n",
    "# Gráfico do espaço latente\n",
    "plt.figure(figsize=(8, 6))\n",
    "scatter = plt.scatter(z_pca[:, 0], z_pca[:, 1], c=y_val, cmap=\"viridis\")\n",
    "plt.colorbar(scatter, label=\"Classes\")\n",
    "plt.title(\"Projeção do Espaço Latente (PCA)\")\n",
    "plt.xlabel(\"Latente 1\")\n",
    "plt.ylabel(\"Latente 2\")\n",
    "plt.show()\n",
    "\n",
    "# Variância explicada pelo PCA\n",
    "print(f\"Variância explicada pelo PCA: {pca.explained_variance_ratio_}\")"
   ]
  }
 ],
 "metadata": {
  "kernelspec": {
   "display_name": "base",
   "language": "python",
   "name": "python3"
  },
  "language_info": {
   "codemirror_mode": {
    "name": "ipython",
    "version": 3
   },
   "file_extension": ".py",
   "mimetype": "text/x-python",
   "name": "python",
   "nbconvert_exporter": "python",
   "pygments_lexer": "ipython3",
   "version": "3.12.7"
  }
 },
 "nbformat": 4,
 "nbformat_minor": 2
}
