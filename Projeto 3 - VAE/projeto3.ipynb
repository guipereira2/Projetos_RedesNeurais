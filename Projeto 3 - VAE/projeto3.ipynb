{
 "cells": [
  {
   "cell_type": "markdown",
   "metadata": {},
   "source": [
    "# **Projeto 3 introdução a redes neurais - Autoencoders Variacionais (VAE)**"
   ]
  },
  {
   "cell_type": "markdown",
   "metadata": {},
   "source": [
    "-------------------------------------------------------------------------------------------------------------"
   ]
  },
  {
   "cell_type": "markdown",
   "metadata": {},
   "source": [
    "## Objetivo: "
   ]
  },
  {
   "cell_type": "markdown",
   "metadata": {},
   "source": [
    "Treinar modelos Variational Autoencoders (VAEs) em dois datasets rotulados, ajustando a topologia com base na função de custo. Explorar o espaço latente com projeção 2D (PCA), avaliando a formação de clusters, separação dos rótulos e variância explicada. Além disso, investigar a possibilidade de enviesar a formação do espaço latente com os rótulos."
   ]
  },
  {
   "cell_type": "markdown",
   "metadata": {},
   "source": [
    "## Importando bibliotecas necessárias"
   ]
  },
  {
   "cell_type": "code",
   "execution_count": null,
   "metadata": {},
   "outputs": [],
   "source": [
    "import numpy as np\n",
    "import matplotlib.pyplot as plt\n",
    "import tensorflow as tf\n",
    "from tensorflow import keras\n",
    "from sklearn.manifold import TSNE\n",
    "from sklearn.decomposition import PCA\n",
    "import seaborn as sns\n",
    "# Configuração do Searborn\n",
    "sns.set(\n",
    "    style='darkgrid',\n",
    "    context='notebook',\n",
    "    rc={\n",
    "        'axes.spines.top': False,\n",
    "        'axes.spines.right': False\n",
    "    }\n",
    ")"
   ]
  },
  {
   "cell_type": "markdown",
   "metadata": {},
   "source": [
    "## Primeiro Dataset"
   ]
  },
  {
   "cell_type": "markdown",
   "metadata": {},
   "source": [
    "O primeiro dataset utilizado é o **MNIST (Modified National Institute of Standards and Technology)**, ele contém 70.000 imagens em escala de cinza, com tamanho de 28x28 pixels, representando dígitos manuscritos de 0 a 9. O dataset é dividido em 60.000 imagens de treinamento e 10.000 de teste,"
   ]
  },
  {
   "cell_type": "markdown",
   "metadata": {},
   "source": [
    "## Preparação dos dados"
   ]
  },
  {
   "cell_type": "markdown",
   "metadata": {},
   "source": [
    "#### 1. Normalização das Imagens  \n",
    "- Os pixels originalmente variam de **0 a 255**.  \n",
    "- Para melhorar a estabilidade do modelo, os valores são convertidos para **o intervalo [0,1]**, usando divisão por 255.  \n",
    "\n",
    "#### 2. Separação dos Conjuntos  \n",
    "- Para avaliar o desempenho do modelo antes do teste, **separamos 5.000 imagens do treino para validação**.  \n",
    "- Distribuição final dos dados:  \n",
    "  - **Treino:** 55.000 imagens  \n",
    "  - **Validação:** 5.000 imagens  \n",
    "  - **Teste:** 10.000 imagens  \n",
    "\n",
    "#### 3. Visualização dos Dados  \n",
    "- São exibidas **10 imagens do conjunto de treino** com seus respectivos rótulos.  \n",
    "- Isso permite verificar a qualidade e distribuição dos dados antes do treinamento.  "
   ]
  },
  {
   "cell_type": "code",
   "execution_count": 2,
   "metadata": {},
   "outputs": [
    {
     "name": "stdout",
     "output_type": "stream",
     "text": [
      "Tamanho do treino: (55000, 28, 28), (55000,)\n",
      "Tamanho da validação: (5000, 28, 28), (5000,)\n",
      "Tamanho do teste: (10000, 28, 28), (10000,)\n"
     ]
    },
    {
     "data": {
      "image/png": "[encoded data removed]",
      "text/plain": [
       "<Figure size 1400x700 with 10 Axes>"
      ]
     },
     "metadata": {},
     "output_type": "display_data"
    }
   ],
   "source": [
    "# Carregar o dataset MNIST\n",
    "(X_treino, y_treino), (X_teste, y_teste) = keras.datasets.mnist.load_data()\n",
    "\n",
    "# Normalizar os pixels (0-255 → 0-1) e converter para float32\n",
    "X_treino = X_treino.astype(np.float32) / 255.\n",
    "X_teste = X_teste.astype(np.float32) / 255.\n",
    "\n",
    "# Separar treino e validação (55.000 para treino, 5.000 para validação)\n",
    "X_treino, X_validacao = X_treino[:-5000], X_treino[-5000:]\n",
    "y_treino, y_validacao = y_treino[:-5000], y_treino[-5000:]\n",
    "\n",
    "# Exibir os tamanhos dos conjuntos\n",
    "print(f\"Tamanho do treino: {X_treino.shape}, {y_treino.shape}\")\n",
    "print(f\"Tamanho da validação: {X_validacao.shape}, {y_validacao.shape}\")\n",
    "print(f\"Tamanho do teste: {X_teste.shape}, {y_teste.shape}\")\n",
    "\n",
    "# Plotar exemplos do dataset\n",
    "plot, i = plt.subplots(2, 5, figsize=(14, 7))\n",
    "plot.suptitle(\"Exemplos do MNIST\", fontsize=14)\n",
    "\n",
    "for i, ax in enumerate(i.flat):\n",
    "    ax.imshow(X_treino[i], cmap=\"gray\")\n",
    "    ax.set_title(f\"Rótulo: {y_treino[i]}\")\n",
    "    ax.axis(\"off\")"
   ]
  },
  {
   "cell_type": "markdown",
   "metadata": {},
   "source": [
    "## **Autoencoders Variacionais (VAE)**"
   ]
  },
  {
   "cell_type": "markdown",
   "metadata": {},
   "source": [
    "### Modelos generativos "
   ]
  },
  {
   "cell_type": "markdown",
   "metadata": {},
   "source": [
    "Os modelos generativos, como o Variational Autoencoder (VAE), geram novos dados a partir do conhecimento extraído de um conjunto inicial. Ao contrário dos modelos discriminativos, que modelam a probabilidade condicional $P(Y|X)$, os modelos generativos como o VAE modelam a distribuição conjunta $P(X,Y)$, aprendendo a estrutura subjacente dos dados e usandp essa informação para criar novos exemplos semelhantes. \n",
    "\n",
    "O VAE impõe uma estrutura probabilística no espaço latente, garantindo que ele siga uma distribuição específica, como uma normal. Isso permite a geração de novos dados realistas a partir da amostragem nesse espaço latente.\n",
    "\n",
    "Aplicações do VAE incluem geração de imagens, síntese de fala, geração de música, criação de novas moléculas e transferência de estilo, entre outras, ao criar dados sintéticos a partir da distribuição aprendida.\n"
   ]
  },
  {
   "cell_type": "markdown",
   "metadata": {},
   "source": [
    "### Autoencoders "
   ]
  },
  {
   "cell_type": "markdown",
   "metadata": {},
   "source": [
    "Os autoencoders são redes neurais em sua forma padrão, geralmente compostas por uma rede neural de perceptrons multicamadas (MLP). Eles são divididos em duas partes principais: o codificador (encoder) e o decodificador (decoder). \n",
    "\n",
    "Os autoencoders são modelos não supervisionados, ou seja, treinam sem rótulos, com o objetivo de aprender uma representação compacta dos dados. A principal característica é que as saídas do modelo são iguais às entradas, o que os torna também conhecidos como modelos auto-supervisionados.\n",
    "\n",
    "Durante o treinamento, o codificador mapeia a entrada $x$ para um espaço latente $z$, que é uma representação compacta das características mais importantes dos dados. O decodificador então reconstrói a entrada $x$ a partir dessa representação latente $z$. A função de perda é dada por:\n",
    "\n",
    "\n",
    "de perda é dada por: $$\\text{loss} = | x - d(e(x)) |^2$$\n",
    "\n",
    "onde $x$ representa a entrada, $e(x)$ é a codificação gerada pelo codificador, e $d(e(x))$ é a reconstrução da entrada pelo decodificador. O objetivo é minimizar essa diferença, fazendo com que a reconstrução se aproxime o máximo possível dos dados originais."
   ]
  },
  {
   "cell_type": "markdown",
   "metadata": {},
   "source": [
    "### Autoencoder variacional"
   ]
  },
  {
   "cell_type": "markdown",
   "metadata": {},
   "source": [
    "O Autoencoder Variacional (VAE) utiliza o espaço latente para gerar novos exemplos. Durante o treinamento, o encoder gera uma distribuição latente $p(z | x)$, e o decoder reconstrói a entrada $x$ a partir de amostras $z$ dessa distribuição. No entanto, se o modelo não for bem treinado, algumas regiões do espaço latente podem gerar exemplos inadequados.\n",
    "\n",
    "O VAE é regularizado para evitar sobreajuste (overfitting) e garantir que o espaço latente seja contínuo e navegável. Isso permite a geração de novos exemplos de maneira coerente. A principal diferença em relação ao autoencoder padrão é que no VAE o encoder gera uma distribuição latente, e não uma única representação $z$.\n",
    "\n",
    "A função de custo do VAE combina o erro de reconstrução e a divergência KL entre a distribuição latente e uma distribuição normal padrão $N(0, I)$. A função de perda é dada por:\n",
    "\n",
    "$$\n",
    "\\text{loss} = \\| x - d(e(x)) \\|^2 + \\text{KL}(N(\\mu_x, \\sigma_x), N(0, I))\n",
    "$$\n",
    "\n",
    "O objetivo é minimizar tanto o erro de reconstrução quanto a divergência KL para garantir um bom espaço latente para a geração de novos dados. "
   ]
  },
  {
   "cell_type": "markdown",
   "metadata": {},
   "source": [
    "### Divergência KL e reparametrização "
   ]
  }
 ],
 "metadata": {
  "kernelspec": {
   "display_name": "tensorflow",
   "language": "python",
   "name": "python3"
  },
  "language_info": {
   "codemirror_mode": {
    "name": "ipython",
    "version": 3
   },
   "file_extension": ".py",
   "mimetype": "text/x-python",
   "name": "python",
   "nbconvert_exporter": "python",
   "pygments_lexer": "ipython3",
   "version": "3.9.21"
  }
 },
 "nbformat": 4,
 "nbformat_minor": 2
}
