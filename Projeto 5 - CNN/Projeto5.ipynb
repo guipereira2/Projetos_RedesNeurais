{
 "cells": [
  {
   "cell_type": "markdown",
   "metadata": {},
   "source": [
    "# **Projeto 5 introdução a redes neurais - Redes Convolucionis (CNN)**"
   ]
  },
  {
   "cell_type": "markdown",
   "metadata": {},
   "source": [
    "------------------------------------------------------------------------------------------------------------"
   ]
  },
  {
   "cell_type": "markdown",
   "metadata": {},
   "source": [
    "## Objetivo: "
   ]
  },
  {
   "cell_type": "markdown",
   "metadata": {},
   "source": [
    "Este projeto tem como objetivo a implementação e avaliação de redes *CNN* para a classificação de imagens do dataset *MNIST*. Para isso, serão testadas cinco topologias clássicas de redes convolucionais: **LeNet** (Yann LeCun), **AlexNet**, **VGG** (*Visual Geometry Group*), **ResNet** (*Residual Neural Network*) e **GoogLeNet**, variando a profundidade da rede, o número de filtros e outros hiperparâmetros.  \n",
    "\n",
    "Os dois melhores modelos (melhor acurácia) serão analisados com a geração da matriz de confusão para avaliar o desempenho por classe. Além disso, será feita uma comparação entre esses modelos, destacando suas diferenças em termos de arquitetura e desempenho.  \n",
    "\n",
    "Por fim, uma rede *MLP*, previamente implementada, será treinada no mesmo conjunto de dados, permitindo comparar sua acurácia e número de parâmetros com a melhor *CNN*."
   ]
  },
  {
   "cell_type": "markdown",
   "metadata": {},
   "source": [
    "## Dataset"
   ]
  },
  {
   "cell_type": "markdown",
   "metadata": {},
   "source": [
    "O dataset utilizado é o **MNIST (Modified National Institute of Standards and Technology)**, ele contém 70.000 imagens em escala de cinza, com tamanho de 28x28 pixels, representando dígitos manuscritos de 0 a 9. O dataset é dividido em 60.000 imagens de treinamento e 10.000 de teste."
   ]
  },
  {
   "cell_type": "markdown",
   "metadata": {},
   "source": [
    "## Bibliotecas"
   ]
  },
  {
   "cell_type": "code",
   "execution_count": null,
   "metadata": {},
   "outputs": [],
   "source": [
    "import numpy as np\n",
    "import matplotlib.pyplot as plt\n",
    "import seaborn as sns\n",
    "from tensorflow import keras\n",
    "# Configuração do Searborn\n",
    "sns.set(\n",
    "    style='darkgrid',\n",
    "    context='notebook',\n",
    "    rc={\n",
    "        'axes.spines.top': False,\n",
    "        'axes.spines.right': False\n",
    "    }\n",
    ")"
   ]
  },
  {
   "cell_type": "markdown",
   "metadata": {},
   "source": [
    "## Preparação dos dados"
   ]
  },
  {
   "cell_type": "markdown",
   "metadata": {},
   "source": [
    "#### 1. Normalização das Imagens  \n",
    "- Os pixels originalmente variam de **0 a 255**.  \n",
    "- Para melhorar a estabilidade do modelo, os valores são convertidos para **o intervalo [0,1]**, usando divisão por 255.  \n",
    "\n",
    "#### 2. Separação dos Conjuntos  \n",
    "- Para avaliar o desempenho do modelo antes do teste, **separamos 5.000 imagens do treino para validação**.  \n",
    "- Distribuição final dos dados:  \n",
    "  - **Treino:** 55.000 imagens  \n",
    "  - **Validação:** 5.000 imagens  \n",
    "  - **Teste:** 10.000 imagens  \n",
    "\n",
    "#### 3. Visualização dos Dados  \n",
    "- São exibidas **10 imagens do conjunto de treino** com seus respectivos rótulos.  \n",
    "- Isso permite verificar a qualidade e distribuição dos dados antes do treinamento.  "
   ]
  },
  {
   "cell_type": "code",
   "execution_count": 2,
   "metadata": {},
   "outputs": [
    {
     "name": "stdout",
     "output_type": "stream",
     "text": [
      "Tamanho do treino: (55000, 28, 28), (55000,)\n",
      "Tamanho da validação: (5000, 28, 28), (5000,)\n",
      "Tamanho do teste: (10000, 28, 28), (10000,)\n"
     ]
    },
    {
     "data": {
      "image/png": "[encoded data removed]",
      "text/plain": [
       "<Figure size 1400x700 with 10 Axes>"
      ]
     },
     "metadata": {},
     "output_type": "display_data"
    }
   ],
   "source": [
    "# Carregar o dataset MNIST\n",
    "(X_treino, y_treino), (X_teste, y_teste) = keras.datasets.mnist.load_data()\n",
    "\n",
    "# Normalizar os pixels (0-255 → 0-1) e converter para float32\n",
    "X_treino = X_treino.astype(np.float32) / 255.\n",
    "X_teste = X_teste.astype(np.float32) / 255.\n",
    "\n",
    "# Separar treino e validação (55.000 para treino, 5.000 para validação)\n",
    "X_treino, X_validacao = X_treino[:-5000], X_treino[-5000:]\n",
    "y_treino, y_validacao = y_treino[:-5000], y_treino[-5000:]\n",
    "\n",
    "# Exibir os tamanhos dos conjuntos\n",
    "print(f\"Tamanho do treino: {X_treino.shape}, {y_treino.shape}\")\n",
    "print(f\"Tamanho da validação: {X_validacao.shape}, {y_validacao.shape}\")\n",
    "print(f\"Tamanho do teste: {X_teste.shape}, {y_teste.shape}\")\n",
    "\n",
    "# Plotar exemplos do dataset\n",
    "plot, i = plt.subplots(2, 5, figsize=(14, 7))\n",
    "plot.suptitle(\"Exemplos do MNIST\", fontsize=15, fontweight='bold')\n",
    "\n",
    "for i, ax in enumerate(i.flat):\n",
    "    ax.imshow(X_treino[i], cmap=\"gray\")\n",
    "    ax.set_title(f\"Rótulo: {y_treino[i]}\")\n",
    "    ax.axis(\"off\")"
   ]
  }
 ],
 "metadata": {
  "kernelspec": {
   "display_name": "base",
   "language": "python",
   "name": "python3"
  },
  "language_info": {
   "codemirror_mode": {
    "name": "ipython",
    "version": 3
   },
   "file_extension": ".py",
   "mimetype": "text/x-python",
   "name": "python",
   "nbconvert_exporter": "python",
   "pygments_lexer": "ipython3",
   "version": "3.11.11"
  }
 },
 "nbformat": 4,
 "nbformat_minor": 2
}
